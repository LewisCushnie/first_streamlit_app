{
 "cells": [
  {
   "cell_type": "markdown",
   "metadata": {},
   "source": [
    "Development flow"
   ]
  },
  {
   "cell_type": "markdown",
   "metadata": {},
   "source": [
    "Every time you want to update your app, save the source file. When you do that, Streamlit detects if there is a change and asks you whether you want to rerun your app. Choose \"Always rerun\" at the top-right of your screen to automatically update your app every time you change its source code.\n",
    "\n",
    "This allows you to work in a fast interactive loop: you type some code, save it, try it out live, then type some more code, save it, try it out, and so on until you're happy with the results. This tight loop between coding and viewing results live is one of the ways Streamlit makes your life easier."
   ]
  },
  {
   "cell_type": "markdown",
   "metadata": {},
   "source": [
    "# Running\n",
    "python -m streamlit run your_script.py\n",
    "\n",
    "# is equivalent to:\n",
    "streamlit run your_script.py\n",
    "\n",
    "# can also use a url\n",
    "streamlit run https://raw.githubusercontent.com/streamlit/demo-uber-nyc-pickups/master/streamlit_app.py"
   ]
  },
  {
   "cell_type": "markdown",
   "metadata": {},
   "source": [
    "See this link for widgets and code features\n",
    "\n",
    "https://docs.streamlit.io/library/get-started/main-concepts"
   ]
  }
 ],
 "metadata": {
  "kernelspec": {
   "display_name": "Python 3.9.13 ('base')",
   "language": "python",
   "name": "python3"
  },
  "language_info": {
   "name": "python",
   "version": "3.9.13"
  },
  "orig_nbformat": 4,
  "vscode": {
   "interpreter": {
    "hash": "7970d6ba57264dec2e2878e45ac4fb0e19c2f88a0699d25caf846e0d3321ad04"
   }
  }
 },
 "nbformat": 4,
 "nbformat_minor": 2
}
